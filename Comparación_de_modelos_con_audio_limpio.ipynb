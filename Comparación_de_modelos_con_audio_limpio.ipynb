{
  "nbformat": 4,
  "nbformat_minor": 0,
  "metadata": {
    "colab": {
      "provenance": [],
      "gpuType": "T4"
    },
    "kernelspec": {
      "name": "python3",
      "display_name": "Python 3"
    },
    "language_info": {
      "name": "python"
    },
    "accelerator": "GPU"
  },
  "cells": [
    {
      "cell_type": "code",
      "source": [
        "import os\n",
        "import tarfile\n",
        "import requests\n",
        "import subprocess\n",
        "\n",
        "# URLs del dataset\n",
        "LIBRISPEECH_URL = \"http://www.openslr.org/resources/12/test-clean.tar.gz\"\n",
        "LIBRISPEECH_TAR = \"test-clean.tar.gz\"\n",
        "EXTRACTION_DIR = \"LibriSpeech\""
      ],
      "metadata": {
        "id": "Xm4CddGw4uZY"
      },
      "execution_count": null,
      "outputs": []
    },
    {
      "cell_type": "code",
      "source": [
        "# Función para descargar el dataset\n",
        "def download_dataset(url, tar_name):\n",
        "    \"\"\"\n",
        "    Descarga un archivo desde una URL y lo guarda con el nombre especificado.\n",
        "    \"\"\"\n",
        "    if not os.path.exists(tar_name):\n",
        "        print(f\"Descargando {tar_name} desde {url}...\")\n",
        "        response = requests.get(url, stream=True)\n",
        "        with open(tar_name, \"wb\") as f:\n",
        "            for chunk in response.iter_content(chunk_size=1024):\n",
        "                f.write(chunk)\n",
        "        print(f\"Descarga completada: {tar_name}\")\n",
        "    else:\n",
        "        print(f\"El archivo {tar_name} ya existe. Omitiendo la descarga.\")\n",
        "\n",
        "# Función para extraer el dataset\n",
        "def extract_dataset(tar_name, extraction_dir):\n",
        "    \"\"\"\n",
        "    Extrae un archivo .tar.gz a un directorio específico.\n",
        "    \"\"\"\n",
        "    if not os.path.exists(extraction_dir):\n",
        "        print(f\"Extrayendo {tar_name} a {extraction_dir}...\")\n",
        "        with tarfile.open(tar_name, \"r:gz\") as tar:\n",
        "            tar.extractall(path=extraction_dir)\n",
        "        print(f\"Extracción completada: {extraction_dir}\")\n",
        "    else:\n",
        "        print(f\"El directorio {extraction_dir} ya existe. Omitiendo la extracción.\")\n",
        "\n",
        "# Función para convertir archivos FLAC a WAV\n",
        "def convert_flac_to_wav(input_dir, output_dir):\n",
        "    \"\"\"\n",
        "    Convierte archivos .flac a .wav en un directorio de salida.\n",
        "    \"\"\"\n",
        "    if not os.path.exists(output_dir):\n",
        "        os.makedirs(output_dir)\n",
        "    print(\"Convirtiendo archivos FLAC a WAV...\")\n",
        "    for root, _, files in os.walk(input_dir):\n",
        "        for file in files:\n",
        "            if file.endswith(\".flac\"):\n",
        "                flac_path = os.path.join(root, file)\n",
        "                wav_path = os.path.join(output_dir, file.replace(\".flac\", \".wav\"))\n",
        "                if not os.path.exists(wav_path):  # Evitar reconvertir\n",
        "                    subprocess.run([\"ffmpeg\", \"-i\", flac_path, \"-ar\", \"16000\", \"-ac\", \"1\", wav_path], stdout=subprocess.DEVNULL, stderr=subprocess.DEVNULL)\n",
        "    print(\"Conversión completada.\")\n",
        "\n",
        "# Función para crear un DataFrame con las transcripciones y rutas a los archivos WAV\n",
        "def create_transcription_dataframe(librispeech_dir, wav_dir):\n",
        "    \"\"\"\n",
        "    Crea un DataFrame con las transcripciones y las rutas de los archivos WAV.\n",
        "    \"\"\"\n",
        "    transcriptions = []\n",
        "    for root, _, files in os.walk(librispeech_dir):\n",
        "        for file in files:\n",
        "            if file.endswith(\".txt\"):  # Buscar archivos de transcripciones\n",
        "                with open(os.path.join(root, file), \"r\") as f:\n",
        "                    for line in f:\n",
        "                        parts = line.strip().split(\" \", 1)\n",
        "                        audio_id = parts[0]\n",
        "                        transcription = parts[1]\n",
        "                        wav_path = os.path.join(wav_dir, f\"{audio_id}.wav\")\n",
        "                        if os.path.exists(wav_path):  # Verificar que el archivo WAV existe\n",
        "                            transcriptions.append({\"wav_path\": wav_path, \"transcription\": transcription})\n",
        "                        else:\n",
        "                            print(f\"Archivo WAV no encontrado: {wav_path}\")\n",
        "    return pd.DataFrame(transcriptions)"
      ],
      "metadata": {
        "id": "8c-Rkwx-F1pD"
      },
      "execution_count": null,
      "outputs": []
    },
    {
      "cell_type": "code",
      "source": [
        "# Ejecutar la descarga, extracción y conversión\n",
        "download_dataset(LIBRISPEECH_URL, LIBRISPEECH_TAR)\n",
        "extract_dataset(LIBRISPEECH_TAR, EXTRACTION_DIR)\n",
        "convert_flac_to_wav(os.path.join(EXTRACTION_DIR, \"test-clean\"), \"wav_files\")"
      ],
      "metadata": {
        "id": "A-Fa8TVk4tzI",
        "colab": {
          "base_uri": "https://localhost:8080/"
        },
        "outputId": "f383a937-93b5-4ad6-9814-c38325bab9d8"
      },
      "execution_count": null,
      "outputs": [
        {
          "output_type": "stream",
          "name": "stdout",
          "text": [
            "El archivo test-clean.tar.gz ya existe. Omitiendo la descarga.\n",
            "El directorio LibriSpeech ya existe. Omitiendo la extracción.\n",
            "Convirtiendo archivos FLAC a WAV...\n",
            "Conversión completada.\n"
          ]
        }
      ]
    },
    {
      "cell_type": "code",
      "source": [
        "import pandas as pd"
      ],
      "metadata": {
        "id": "Tsmh_QapIn52"
      },
      "execution_count": null,
      "outputs": []
    },
    {
      "cell_type": "code",
      "execution_count": null,
      "metadata": {
        "colab": {
          "base_uri": "https://localhost:8080/"
        },
        "id": "Wcj8wlC5PpV1",
        "outputId": "fd7e6f22-25b2-4909-fd8f-893cbbd791c9"
      },
      "outputs": [
        {
          "output_type": "stream",
          "name": "stdout",
          "text": [
            "El archivo test-clean.tar.gz ya existe. Omitiendo la descarga.\n",
            "El directorio LibriSpeech/LibriSpeech ya existe. Omitiendo la extracción.\n",
            "Convirtiendo archivos FLAC a WAV...\n",
            "Conversión completada.\n",
            "Total de audios procesados: 2620\n",
            "Transcripciones guardadas en: transcriptions_test_clean.csv\n",
            "\n",
            "Primeras filas del DataFrame:\n",
            "                        wav_path  \\\n",
            "0  wav_files/6930-75918-0000.wav   \n",
            "1  wav_files/6930-75918-0001.wav   \n",
            "2  wav_files/6930-75918-0002.wav   \n",
            "3  wav_files/6930-75918-0003.wav   \n",
            "4  wav_files/6930-75918-0004.wav   \n",
            "5  wav_files/6930-75918-0005.wav   \n",
            "6  wav_files/6930-75918-0006.wav   \n",
            "7  wav_files/6930-75918-0007.wav   \n",
            "8  wav_files/6930-75918-0008.wav   \n",
            "9  wav_files/6930-75918-0009.wav   \n",
            "\n",
            "                                       transcription  \n",
            "0     CONCORD RETURNED TO ITS PLACE AMIDST THE TENTS  \n",
            "1  THE ENGLISH FORWARDED TO THE FRENCH BASKETS OF...  \n",
            "2  CONGRATULATIONS WERE POURED IN UPON THE PRINCE...  \n",
            "3  FROM THE RESPECT PAID HER ON ALL SIDES SHE SEE...  \n",
            "4  SHE TAUGHT HER DAUGHTER THEN BY HER OWN AFFECT...  \n",
            "5  THE COUNT HAD THROWN HIMSELF BACK ON HIS SEAT ...  \n",
            "6  THIS HAS INDEED BEEN A HARASSING DAY CONTINUED...  \n",
            "7              YOU WILL BE FRANK WITH ME I ALWAYS AM  \n",
            "8  CAN YOU IMAGINE WHY BUCKINGHAM HAS BEEN SO VIO...  \n",
            "9  IT IS YOU WHO ARE MISTAKEN RAOUL I HAVE READ H...  \n"
          ]
        }
      ],
      "source": [
        "# Rutas de los directorios\n",
        "EXTRACTION_DIR = \"LibriSpeech/LibriSpeech\"\n",
        "TEST_CLEAN_DIR = os.path.join(EXTRACTION_DIR, \"test-clean\")\n",
        "WAV_DIR = \"wav_files\"\n",
        "\n",
        "# Paso 1: Descargar el dataset\n",
        "download_dataset(LIBRISPEECH_URL, LIBRISPEECH_TAR)\n",
        "\n",
        "# Paso 2: Extraer el dataset\n",
        "extract_dataset(LIBRISPEECH_TAR, EXTRACTION_DIR)\n",
        "\n",
        "# Paso 3: Convertir FLAC a WAV\n",
        "convert_flac_to_wav(TEST_CLEAN_DIR, WAV_DIR)\n",
        "\n",
        "# Paso 4: Crear el DataFrame con las transcripciones\n",
        "transcriptions_df = create_transcription_dataframe(TEST_CLEAN_DIR, WAV_DIR)\n",
        "print(f\"Total de audios procesados: {len(transcriptions_df)}\")\n",
        "\n",
        "# Paso 5: Guardar el DataFrame en un archivo CSV (opcional)\n",
        "output_csv = \"transcriptions_test_clean.csv\"\n",
        "transcriptions_df.to_csv(output_csv, index=False)\n",
        "print(f\"Transcripciones guardadas en: {output_csv}\")\n",
        "\n",
        "# Paso 6: Mostrar las primeras filas del DataFrame (verificación)\n",
        "print(\"\\nPrimeras filas del DataFrame:\")\n",
        "print(transcriptions_df.head(10))"
      ]
    },
    {
      "cell_type": "code",
      "source": [
        "!pip install jiwer"
      ],
      "metadata": {
        "colab": {
          "base_uri": "https://localhost:8080/"
        },
        "id": "tsdfEmpdW0Q8",
        "outputId": "f8b9d1a9-fa91-498e-c7f8-f685b4f61d26"
      },
      "execution_count": null,
      "outputs": [
        {
          "output_type": "stream",
          "name": "stdout",
          "text": [
            "Requirement already satisfied: jiwer in /usr/local/lib/python3.10/dist-packages (3.0.5)\n",
            "Requirement already satisfied: click<9.0.0,>=8.1.3 in /usr/local/lib/python3.10/dist-packages (from jiwer) (8.1.7)\n",
            "Requirement already satisfied: rapidfuzz<4,>=3 in /usr/local/lib/python3.10/dist-packages (from jiwer) (3.11.0)\n"
          ]
        }
      ]
    },
    {
      "cell_type": "code",
      "source": [
        "!pip install torch torchaudio librosa transformers speechbrain nemo_toolkit matplotlib\n",
        "#!pip install nemo_toolkit[all]\n",
        "!pip install transformers speechbrain\n",
        "!pip install nemo_toolkit[asr]"
      ],
      "metadata": {
        "colab": {
          "base_uri": "https://localhost:8080/"
        },
        "collapsed": true,
        "id": "Qvog3XRWXC_t",
        "outputId": "604ec491-167f-4538-a9a4-e242d2f0d29b"
      },
      "execution_count": null,
      "outputs": [
        {
          "output_type": "stream",
          "name": "stdout",
          "text": [
            "Requirement already satisfied: torch in /usr/local/lib/python3.10/dist-packages (2.5.1+cu121)\n",
            "Requirement already satisfied: torchaudio in /usr/local/lib/python3.10/dist-packages (2.5.1+cu121)\n",
            "Requirement already satisfied: librosa in /usr/local/lib/python3.10/dist-packages (0.10.2.post1)\n",
            "Requirement already satisfied: transformers in /usr/local/lib/python3.10/dist-packages (4.47.1)\n",
            "Requirement already satisfied: speechbrain in /usr/local/lib/python3.10/dist-packages (1.0.2)\n",
            "Requirement already satisfied: nemo_toolkit in /usr/local/lib/python3.10/dist-packages (2.0.0)\n",
            "Requirement already satisfied: matplotlib in /usr/local/lib/python3.10/dist-packages (3.8.0)\n",
            "Requirement already satisfied: filelock in /usr/local/lib/python3.10/dist-packages (from torch) (3.16.1)\n",
            "Requirement already satisfied: typing-extensions>=4.8.0 in /usr/local/lib/python3.10/dist-packages (from torch) (4.12.2)\n",
            "Requirement already satisfied: networkx in /usr/local/lib/python3.10/dist-packages (from torch) (3.4.2)\n",
            "Requirement already satisfied: jinja2 in /usr/local/lib/python3.10/dist-packages (from torch) (3.1.4)\n",
            "Requirement already satisfied: fsspec in /usr/local/lib/python3.10/dist-packages (from torch) (2024.9.0)\n",
            "Requirement already satisfied: sympy==1.13.1 in /usr/local/lib/python3.10/dist-packages (from torch) (1.13.1)\n",
            "Requirement already satisfied: mpmath<1.4,>=1.1.0 in /usr/local/lib/python3.10/dist-packages (from sympy==1.13.1->torch) (1.3.0)\n",
            "Requirement already satisfied: audioread>=2.1.9 in /usr/local/lib/python3.10/dist-packages (from librosa) (3.0.1)\n",
            "Requirement already satisfied: numpy!=1.22.0,!=1.22.1,!=1.22.2,>=1.20.3 in /usr/local/lib/python3.10/dist-packages (from librosa) (1.26.4)\n",
            "Requirement already satisfied: scipy>=1.2.0 in /usr/local/lib/python3.10/dist-packages (from librosa) (1.13.1)\n",
            "Requirement already satisfied: scikit-learn>=0.20.0 in /usr/local/lib/python3.10/dist-packages (from librosa) (1.6.0)\n",
            "Requirement already satisfied: joblib>=0.14 in /usr/local/lib/python3.10/dist-packages (from librosa) (1.4.2)\n",
            "Requirement already satisfied: decorator>=4.3.0 in /usr/local/lib/python3.10/dist-packages (from librosa) (4.4.2)\n",
            "Requirement already satisfied: numba>=0.51.0 in /usr/local/lib/python3.10/dist-packages (from librosa) (0.60.0)\n",
            "Requirement already satisfied: soundfile>=0.12.1 in /usr/local/lib/python3.10/dist-packages (from librosa) (0.12.1)\n",
            "Requirement already satisfied: pooch>=1.1 in /usr/local/lib/python3.10/dist-packages (from librosa) (1.8.2)\n",
            "Requirement already satisfied: soxr>=0.3.2 in /usr/local/lib/python3.10/dist-packages (from librosa) (0.5.0.post1)\n",
            "Requirement already satisfied: lazy-loader>=0.1 in /usr/local/lib/python3.10/dist-packages (from librosa) (0.4)\n",
            "Requirement already satisfied: msgpack>=1.0 in /usr/local/lib/python3.10/dist-packages (from librosa) (1.1.0)\n",
            "Requirement already satisfied: huggingface-hub<1.0,>=0.24.0 in /usr/local/lib/python3.10/dist-packages (from transformers) (0.27.0)\n",
            "Requirement already satisfied: packaging>=20.0 in /usr/local/lib/python3.10/dist-packages (from transformers) (24.2)\n",
            "Requirement already satisfied: pyyaml>=5.1 in /usr/local/lib/python3.10/dist-packages (from transformers) (6.0.2)\n",
            "Requirement already satisfied: regex!=2019.12.17 in /usr/local/lib/python3.10/dist-packages (from transformers) (2024.11.6)\n",
            "Requirement already satisfied: requests in /usr/local/lib/python3.10/dist-packages (from transformers) (2.32.3)\n",
            "Requirement already satisfied: tokenizers<0.22,>=0.21 in /usr/local/lib/python3.10/dist-packages (from transformers) (0.21.0)\n",
            "Requirement already satisfied: safetensors>=0.4.1 in /usr/local/lib/python3.10/dist-packages (from transformers) (0.4.5)\n",
            "Requirement already satisfied: tqdm>=4.27 in /usr/local/lib/python3.10/dist-packages (from transformers) (4.67.1)\n",
            "Requirement already satisfied: hyperpyyaml in /usr/local/lib/python3.10/dist-packages (from speechbrain) (1.2.2)\n",
            "Requirement already satisfied: sentencepiece in /usr/local/lib/python3.10/dist-packages (from speechbrain) (0.2.0)\n",
            "Requirement already satisfied: onnx>=1.7.0 in /usr/local/lib/python3.10/dist-packages (from nemo_toolkit) (1.17.0)\n",
            "Requirement already satisfied: python-dateutil in /usr/local/lib/python3.10/dist-packages (from nemo_toolkit) (2.8.2)\n",
            "Requirement already satisfied: ruamel.yaml in /usr/local/lib/python3.10/dist-packages (from nemo_toolkit) (0.18.6)\n",
            "Requirement already satisfied: setuptools>=70.0.0 in /usr/local/lib/python3.10/dist-packages (from nemo_toolkit) (75.1.0)\n",
            "Requirement already satisfied: tensorboard in /usr/local/lib/python3.10/dist-packages (from nemo_toolkit) (2.17.1)\n",
            "Requirement already satisfied: text-unidecode in /usr/local/lib/python3.10/dist-packages (from nemo_toolkit) (1.3)\n",
            "Requirement already satisfied: wget in /usr/local/lib/python3.10/dist-packages (from nemo_toolkit) (3.2)\n",
            "Requirement already satisfied: wrapt in /usr/local/lib/python3.10/dist-packages (from nemo_toolkit) (1.17.0)\n",
            "Requirement already satisfied: contourpy>=1.0.1 in /usr/local/lib/python3.10/dist-packages (from matplotlib) (1.3.1)\n",
            "Requirement already satisfied: cycler>=0.10 in /usr/local/lib/python3.10/dist-packages (from matplotlib) (0.12.1)\n",
            "Requirement already satisfied: fonttools>=4.22.0 in /usr/local/lib/python3.10/dist-packages (from matplotlib) (4.55.3)\n",
            "Requirement already satisfied: kiwisolver>=1.0.1 in /usr/local/lib/python3.10/dist-packages (from matplotlib) (1.4.7)\n",
            "Requirement already satisfied: pillow>=6.2.0 in /usr/local/lib/python3.10/dist-packages (from matplotlib) (11.0.0)\n",
            "Requirement already satisfied: pyparsing>=2.3.1 in /usr/local/lib/python3.10/dist-packages (from matplotlib) (3.2.0)\n",
            "Requirement already satisfied: llvmlite<0.44,>=0.43.0dev0 in /usr/local/lib/python3.10/dist-packages (from numba>=0.51.0->librosa) (0.43.0)\n",
            "Requirement already satisfied: protobuf>=3.20.2 in /usr/local/lib/python3.10/dist-packages (from onnx>=1.7.0->nemo_toolkit) (4.25.5)\n",
            "Requirement already satisfied: platformdirs>=2.5.0 in /usr/local/lib/python3.10/dist-packages (from pooch>=1.1->librosa) (4.3.6)\n",
            "Requirement already satisfied: six>=1.5 in /usr/local/lib/python3.10/dist-packages (from python-dateutil->nemo_toolkit) (1.17.0)\n",
            "Requirement already satisfied: charset-normalizer<4,>=2 in /usr/local/lib/python3.10/dist-packages (from requests->transformers) (3.4.0)\n",
            "Requirement already satisfied: idna<4,>=2.5 in /usr/local/lib/python3.10/dist-packages (from requests->transformers) (3.10)\n",
            "Requirement already satisfied: urllib3<3,>=1.21.1 in /usr/local/lib/python3.10/dist-packages (from requests->transformers) (2.2.3)\n",
            "Requirement already satisfied: certifi>=2017.4.17 in /usr/local/lib/python3.10/dist-packages (from requests->transformers) (2024.12.14)\n",
            "Requirement already satisfied: threadpoolctl>=3.1.0 in /usr/local/lib/python3.10/dist-packages (from scikit-learn>=0.20.0->librosa) (3.5.0)\n",
            "Requirement already satisfied: cffi>=1.0 in /usr/local/lib/python3.10/dist-packages (from soundfile>=0.12.1->librosa) (1.17.1)\n",
            "Requirement already satisfied: ruamel.yaml.clib>=0.2.7 in /usr/local/lib/python3.10/dist-packages (from ruamel.yaml->nemo_toolkit) (0.2.12)\n",
            "Requirement already satisfied: MarkupSafe>=2.0 in /usr/local/lib/python3.10/dist-packages (from jinja2->torch) (3.0.2)\n",
            "Requirement already satisfied: absl-py>=0.4 in /usr/local/lib/python3.10/dist-packages (from tensorboard->nemo_toolkit) (1.4.0)\n",
            "Requirement already satisfied: grpcio>=1.48.2 in /usr/local/lib/python3.10/dist-packages (from tensorboard->nemo_toolkit) (1.68.1)\n",
            "Requirement already satisfied: markdown>=2.6.8 in /usr/local/lib/python3.10/dist-packages (from tensorboard->nemo_toolkit) (3.7)\n",
            "Requirement already satisfied: tensorboard-data-server<0.8.0,>=0.7.0 in /usr/local/lib/python3.10/dist-packages (from tensorboard->nemo_toolkit) (0.7.2)\n",
            "Requirement already satisfied: werkzeug>=1.0.1 in /usr/local/lib/python3.10/dist-packages (from tensorboard->nemo_toolkit) (3.1.3)\n",
            "Requirement already satisfied: pycparser in /usr/local/lib/python3.10/dist-packages (from cffi>=1.0->soundfile>=0.12.1->librosa) (2.22)\n",
            "Requirement already satisfied: transformers in /usr/local/lib/python3.10/dist-packages (4.47.1)\n",
            "Requirement already satisfied: speechbrain in /usr/local/lib/python3.10/dist-packages (1.0.2)\n",
            "Requirement already satisfied: filelock in /usr/local/lib/python3.10/dist-packages (from transformers) (3.16.1)\n",
            "Requirement already satisfied: huggingface-hub<1.0,>=0.24.0 in /usr/local/lib/python3.10/dist-packages (from transformers) (0.27.0)\n",
            "Requirement already satisfied: numpy>=1.17 in /usr/local/lib/python3.10/dist-packages (from transformers) (1.26.4)\n",
            "Requirement already satisfied: packaging>=20.0 in /usr/local/lib/python3.10/dist-packages (from transformers) (24.2)\n",
            "Requirement already satisfied: pyyaml>=5.1 in /usr/local/lib/python3.10/dist-packages (from transformers) (6.0.2)\n",
            "Requirement already satisfied: regex!=2019.12.17 in /usr/local/lib/python3.10/dist-packages (from transformers) (2024.11.6)\n",
            "Requirement already satisfied: requests in /usr/local/lib/python3.10/dist-packages (from transformers) (2.32.3)\n",
            "Requirement already satisfied: tokenizers<0.22,>=0.21 in /usr/local/lib/python3.10/dist-packages (from transformers) (0.21.0)\n",
            "Requirement already satisfied: safetensors>=0.4.1 in /usr/local/lib/python3.10/dist-packages (from transformers) (0.4.5)\n",
            "Requirement already satisfied: tqdm>=4.27 in /usr/local/lib/python3.10/dist-packages (from transformers) (4.67.1)\n",
            "Requirement already satisfied: hyperpyyaml in /usr/local/lib/python3.10/dist-packages (from speechbrain) (1.2.2)\n",
            "Requirement already satisfied: joblib in /usr/local/lib/python3.10/dist-packages (from speechbrain) (1.4.2)\n",
            "Requirement already satisfied: scipy in /usr/local/lib/python3.10/dist-packages (from speechbrain) (1.13.1)\n",
            "Requirement already satisfied: sentencepiece in /usr/local/lib/python3.10/dist-packages (from speechbrain) (0.2.0)\n",
            "Requirement already satisfied: torch>=1.9 in /usr/local/lib/python3.10/dist-packages (from speechbrain) (2.5.1+cu121)\n",
            "Requirement already satisfied: torchaudio in /usr/local/lib/python3.10/dist-packages (from speechbrain) (2.5.1+cu121)\n",
            "Requirement already satisfied: fsspec>=2023.5.0 in /usr/local/lib/python3.10/dist-packages (from huggingface-hub<1.0,>=0.24.0->transformers) (2024.9.0)\n",
            "Requirement already satisfied: typing-extensions>=3.7.4.3 in /usr/local/lib/python3.10/dist-packages (from huggingface-hub<1.0,>=0.24.0->transformers) (4.12.2)\n",
            "Requirement already satisfied: networkx in /usr/local/lib/python3.10/dist-packages (from torch>=1.9->speechbrain) (3.4.2)\n",
            "Requirement already satisfied: jinja2 in /usr/local/lib/python3.10/dist-packages (from torch>=1.9->speechbrain) (3.1.4)\n",
            "Requirement already satisfied: sympy==1.13.1 in /usr/local/lib/python3.10/dist-packages (from torch>=1.9->speechbrain) (1.13.1)\n",
            "Requirement already satisfied: mpmath<1.4,>=1.1.0 in /usr/local/lib/python3.10/dist-packages (from sympy==1.13.1->torch>=1.9->speechbrain) (1.3.0)\n",
            "Requirement already satisfied: ruamel.yaml>=0.17.28 in /usr/local/lib/python3.10/dist-packages (from hyperpyyaml->speechbrain) (0.18.6)\n",
            "Requirement already satisfied: charset-normalizer<4,>=2 in /usr/local/lib/python3.10/dist-packages (from requests->transformers) (3.4.0)\n",
            "Requirement already satisfied: idna<4,>=2.5 in /usr/local/lib/python3.10/dist-packages (from requests->transformers) (3.10)\n",
            "Requirement already satisfied: urllib3<3,>=1.21.1 in /usr/local/lib/python3.10/dist-packages (from requests->transformers) (2.2.3)\n",
            "Requirement already satisfied: certifi>=2017.4.17 in /usr/local/lib/python3.10/dist-packages (from requests->transformers) (2024.12.14)\n",
            "Requirement already satisfied: ruamel.yaml.clib>=0.2.7 in /usr/local/lib/python3.10/dist-packages (from ruamel.yaml>=0.17.28->hyperpyyaml->speechbrain) (0.2.12)\n",
            "Requirement already satisfied: MarkupSafe>=2.0 in /usr/local/lib/python3.10/dist-packages (from jinja2->torch>=1.9->speechbrain) (3.0.2)\n",
            "Requirement already satisfied: nemo_toolkit[asr] in /usr/local/lib/python3.10/dist-packages (2.0.0)\n",
            "Requirement already satisfied: huggingface-hub>=0.24 in /usr/local/lib/python3.10/dist-packages (from nemo_toolkit[asr]) (0.27.0)\n",
            "Requirement already satisfied: numba in /usr/local/lib/python3.10/dist-packages (from nemo_toolkit[asr]) (0.60.0)\n",
            "Requirement already satisfied: numpy>=1.22 in /usr/local/lib/python3.10/dist-packages (from nemo_toolkit[asr]) (1.26.4)\n",
            "Requirement already satisfied: onnx>=1.7.0 in /usr/local/lib/python3.10/dist-packages (from nemo_toolkit[asr]) (1.17.0)\n",
            "Requirement already satisfied: python-dateutil in /usr/local/lib/python3.10/dist-packages (from nemo_toolkit[asr]) (2.8.2)\n",
            "Requirement already satisfied: ruamel.yaml in /usr/local/lib/python3.10/dist-packages (from nemo_toolkit[asr]) (0.18.6)\n",
            "Requirement already satisfied: scikit-learn in /usr/local/lib/python3.10/dist-packages (from nemo_toolkit[asr]) (1.6.0)\n",
            "Requirement already satisfied: setuptools>=70.0.0 in /usr/local/lib/python3.10/dist-packages (from nemo_toolkit[asr]) (75.1.0)\n",
            "Requirement already satisfied: tensorboard in /usr/local/lib/python3.10/dist-packages (from nemo_toolkit[asr]) (2.17.1)\n",
            "Requirement already satisfied: text-unidecode in /usr/local/lib/python3.10/dist-packages (from nemo_toolkit[asr]) (1.3)\n",
            "Requirement already satisfied: torch in /usr/local/lib/python3.10/dist-packages (from nemo_toolkit[asr]) (2.5.1+cu121)\n",
            "Requirement already satisfied: tqdm>=4.41.0 in /usr/local/lib/python3.10/dist-packages (from nemo_toolkit[asr]) (4.67.1)\n",
            "Requirement already satisfied: wget in /usr/local/lib/python3.10/dist-packages (from nemo_toolkit[asr]) (3.2)\n",
            "Requirement already satisfied: wrapt in /usr/local/lib/python3.10/dist-packages (from nemo_toolkit[asr]) (1.17.0)\n",
            "Requirement already satisfied: braceexpand in /usr/local/lib/python3.10/dist-packages (from nemo_toolkit[asr]) (0.1.7)\n",
            "Requirement already satisfied: editdistance in /usr/local/lib/python3.10/dist-packages (from nemo_toolkit[asr]) (0.8.1)\n",
            "Requirement already satisfied: einops in /usr/local/lib/python3.10/dist-packages (from nemo_toolkit[asr]) (0.8.0)\n",
            "Requirement already satisfied: g2p-en in /usr/local/lib/python3.10/dist-packages (from nemo_toolkit[asr]) (2.1.0)\n",
            "Requirement already satisfied: jiwer in /usr/local/lib/python3.10/dist-packages (from nemo_toolkit[asr]) (3.0.5)\n",
            "Requirement already satisfied: kaldi-python-io in /usr/local/lib/python3.10/dist-packages (from nemo_toolkit[asr]) (1.2.2)\n",
            "Requirement already satisfied: kaldiio in /usr/local/lib/python3.10/dist-packages (from nemo_toolkit[asr]) (2.18.0)\n",
            "Requirement already satisfied: lhotse>=1.26.0 in /usr/local/lib/python3.10/dist-packages (from nemo_toolkit[asr]) (1.29.0)\n",
            "Requirement already satisfied: librosa>=0.10.2 in /usr/local/lib/python3.10/dist-packages (from nemo_toolkit[asr]) (0.10.2.post1)\n",
            "Requirement already satisfied: marshmallow in /usr/local/lib/python3.10/dist-packages (from nemo_toolkit[asr]) (3.23.2)\n",
            "Requirement already satisfied: packaging in /usr/local/lib/python3.10/dist-packages (from nemo_toolkit[asr]) (24.2)\n",
            "Requirement already satisfied: pyannote.core in /usr/local/lib/python3.10/dist-packages (from nemo_toolkit[asr]) (5.0.0)\n",
            "Requirement already satisfied: pyannote.metrics in /usr/local/lib/python3.10/dist-packages (from nemo_toolkit[asr]) (3.2.1)\n",
            "Requirement already satisfied: pydub in /usr/local/lib/python3.10/dist-packages (from nemo_toolkit[asr]) (0.25.1)\n",
            "Requirement already satisfied: pyloudnorm in /usr/local/lib/python3.10/dist-packages (from nemo_toolkit[asr]) (0.1.1)\n",
            "Requirement already satisfied: resampy in /usr/local/lib/python3.10/dist-packages (from nemo_toolkit[asr]) (0.4.3)\n",
            "Requirement already satisfied: scipy>=0.14 in /usr/local/lib/python3.10/dist-packages (from nemo_toolkit[asr]) (1.13.1)\n",
            "Requirement already satisfied: soundfile in /usr/local/lib/python3.10/dist-packages (from nemo_toolkit[asr]) (0.12.1)\n",
            "Requirement already satisfied: sox in /usr/local/lib/python3.10/dist-packages (from nemo_toolkit[asr]) (1.5.0)\n",
            "Requirement already satisfied: texterrors in /usr/local/lib/python3.10/dist-packages (from nemo_toolkit[asr]) (0.5.1)\n",
            "Requirement already satisfied: cloudpickle in /usr/local/lib/python3.10/dist-packages (from nemo_toolkit[asr]) (3.1.0)\n",
            "Requirement already satisfied: fiddle in /usr/local/lib/python3.10/dist-packages (from nemo_toolkit[asr]) (0.3.0)\n",
            "Requirement already satisfied: hydra-core<=1.3.2,>1.3 in /usr/local/lib/python3.10/dist-packages (from nemo_toolkit[asr]) (1.3.2)\n",
            "Requirement already satisfied: omegaconf<=2.3 in /usr/local/lib/python3.10/dist-packages (from nemo_toolkit[asr]) (2.3.0)\n",
            "Requirement already satisfied: pytorch-lightning>2.2.1 in /usr/local/lib/python3.10/dist-packages (from nemo_toolkit[asr]) (2.5.0.post0)\n",
            "Requirement already satisfied: torchmetrics>=0.11.0 in /usr/local/lib/python3.10/dist-packages (from nemo_toolkit[asr]) (1.6.0)\n",
            "Requirement already satisfied: transformers>=4.44.0 in /usr/local/lib/python3.10/dist-packages (from nemo_toolkit[asr]) (4.47.1)\n",
            "Requirement already satisfied: wandb in /usr/local/lib/python3.10/dist-packages (from nemo_toolkit[asr]) (0.19.1)\n",
            "Requirement already satisfied: webdataset>=0.2.86 in /usr/local/lib/python3.10/dist-packages (from nemo_toolkit[asr]) (0.2.100)\n",
            "Requirement already satisfied: datasets in /usr/local/lib/python3.10/dist-packages (from nemo_toolkit[asr]) (3.2.0)\n",
            "Requirement already satisfied: inflect in /usr/local/lib/python3.10/dist-packages (from nemo_toolkit[asr]) (7.4.0)\n",
            "Requirement already satisfied: pandas in /usr/local/lib/python3.10/dist-packages (from nemo_toolkit[asr]) (2.2.2)\n",
            "Requirement already satisfied: sacremoses>=0.0.43 in /usr/local/lib/python3.10/dist-packages (from nemo_toolkit[asr]) (0.1.1)\n",
            "Requirement already satisfied: sentencepiece<1.0.0 in /usr/local/lib/python3.10/dist-packages (from nemo_toolkit[asr]) (0.2.0)\n",
            "Requirement already satisfied: filelock in /usr/local/lib/python3.10/dist-packages (from huggingface-hub>=0.24->nemo_toolkit[asr]) (3.16.1)\n",
            "Requirement already satisfied: fsspec>=2023.5.0 in /usr/local/lib/python3.10/dist-packages (from huggingface-hub>=0.24->nemo_toolkit[asr]) (2024.9.0)\n",
            "Requirement already satisfied: pyyaml>=5.1 in /usr/local/lib/python3.10/dist-packages (from huggingface-hub>=0.24->nemo_toolkit[asr]) (6.0.2)\n",
            "Requirement already satisfied: requests in /usr/local/lib/python3.10/dist-packages (from huggingface-hub>=0.24->nemo_toolkit[asr]) (2.32.3)\n",
            "Requirement already satisfied: typing-extensions>=3.7.4.3 in /usr/local/lib/python3.10/dist-packages (from huggingface-hub>=0.24->nemo_toolkit[asr]) (4.12.2)\n",
            "Requirement already satisfied: antlr4-python3-runtime==4.9.* in /usr/local/lib/python3.10/dist-packages (from hydra-core<=1.3.2,>1.3->nemo_toolkit[asr]) (4.9.3)\n",
            "Requirement already satisfied: audioread>=2.1.9 in /usr/local/lib/python3.10/dist-packages (from lhotse>=1.26.0->nemo_toolkit[asr]) (3.0.1)\n",
            "Requirement already satisfied: click>=7.1.1 in /usr/local/lib/python3.10/dist-packages (from lhotse>=1.26.0->nemo_toolkit[asr]) (8.1.7)\n",
            "Requirement already satisfied: cytoolz>=0.10.1 in /usr/local/lib/python3.10/dist-packages (from lhotse>=1.26.0->nemo_toolkit[asr]) (1.0.1)\n",
            "Requirement already satisfied: intervaltree>=3.1.0 in /usr/local/lib/python3.10/dist-packages (from lhotse>=1.26.0->nemo_toolkit[asr]) (3.1.0)\n",
            "Requirement already satisfied: tabulate>=0.8.1 in /usr/local/lib/python3.10/dist-packages (from lhotse>=1.26.0->nemo_toolkit[asr]) (0.9.0)\n",
            "Requirement already satisfied: lilcom>=1.1.0 in /usr/local/lib/python3.10/dist-packages (from lhotse>=1.26.0->nemo_toolkit[asr]) (1.8.0)\n",
            "Requirement already satisfied: joblib>=0.14 in /usr/local/lib/python3.10/dist-packages (from librosa>=0.10.2->nemo_toolkit[asr]) (1.4.2)\n",
            "Requirement already satisfied: decorator>=4.3.0 in /usr/local/lib/python3.10/dist-packages (from librosa>=0.10.2->nemo_toolkit[asr]) (4.4.2)\n",
            "Requirement already satisfied: pooch>=1.1 in /usr/local/lib/python3.10/dist-packages (from librosa>=0.10.2->nemo_toolkit[asr]) (1.8.2)\n",
            "Requirement already satisfied: soxr>=0.3.2 in /usr/local/lib/python3.10/dist-packages (from librosa>=0.10.2->nemo_toolkit[asr]) (0.5.0.post1)\n",
            "Requirement already satisfied: lazy-loader>=0.1 in /usr/local/lib/python3.10/dist-packages (from librosa>=0.10.2->nemo_toolkit[asr]) (0.4)\n",
            "Requirement already satisfied: msgpack>=1.0 in /usr/local/lib/python3.10/dist-packages (from librosa>=0.10.2->nemo_toolkit[asr]) (1.1.0)\n",
            "Requirement already satisfied: llvmlite<0.44,>=0.43.0dev0 in /usr/local/lib/python3.10/dist-packages (from numba->nemo_toolkit[asr]) (0.43.0)\n",
            "Requirement already satisfied: protobuf>=3.20.2 in /usr/local/lib/python3.10/dist-packages (from onnx>=1.7.0->nemo_toolkit[asr]) (4.25.5)\n",
            "Requirement already satisfied: lightning-utilities>=0.10.0 in /usr/local/lib/python3.10/dist-packages (from pytorch-lightning>2.2.1->nemo_toolkit[asr]) (0.11.9)\n",
            "Requirement already satisfied: regex in /usr/local/lib/python3.10/dist-packages (from sacremoses>=0.0.43->nemo_toolkit[asr]) (2024.11.6)\n",
            "Requirement already satisfied: threadpoolctl>=3.1.0 in /usr/local/lib/python3.10/dist-packages (from scikit-learn->nemo_toolkit[asr]) (3.5.0)\n",
            "Requirement already satisfied: cffi>=1.0 in /usr/local/lib/python3.10/dist-packages (from soundfile->nemo_toolkit[asr]) (1.17.1)\n",
            "Requirement already satisfied: networkx in /usr/local/lib/python3.10/dist-packages (from torch->nemo_toolkit[asr]) (3.4.2)\n",
            "Requirement already satisfied: jinja2 in /usr/local/lib/python3.10/dist-packages (from torch->nemo_toolkit[asr]) (3.1.4)\n",
            "Requirement already satisfied: sympy==1.13.1 in /usr/local/lib/python3.10/dist-packages (from torch->nemo_toolkit[asr]) (1.13.1)\n",
            "Requirement already satisfied: mpmath<1.4,>=1.1.0 in /usr/local/lib/python3.10/dist-packages (from sympy==1.13.1->torch->nemo_toolkit[asr]) (1.3.0)\n",
            "Requirement already satisfied: tokenizers<0.22,>=0.21 in /usr/local/lib/python3.10/dist-packages (from transformers>=4.44.0->nemo_toolkit[asr]) (0.21.0)\n",
            "Requirement already satisfied: safetensors>=0.4.1 in /usr/local/lib/python3.10/dist-packages (from transformers>=4.44.0->nemo_toolkit[asr]) (0.4.5)\n",
            "Requirement already satisfied: pyarrow>=15.0.0 in /usr/local/lib/python3.10/dist-packages (from datasets->nemo_toolkit[asr]) (17.0.0)\n",
            "Requirement already satisfied: dill<0.3.9,>=0.3.0 in /usr/local/lib/python3.10/dist-packages (from datasets->nemo_toolkit[asr]) (0.3.8)\n",
            "Requirement already satisfied: xxhash in /usr/local/lib/python3.10/dist-packages (from datasets->nemo_toolkit[asr]) (3.5.0)\n",
            "Requirement already satisfied: multiprocess<0.70.17 in /usr/local/lib/python3.10/dist-packages (from datasets->nemo_toolkit[asr]) (0.70.16)\n",
            "Requirement already satisfied: aiohttp in /usr/local/lib/python3.10/dist-packages (from datasets->nemo_toolkit[asr]) (3.11.10)\n",
            "Requirement already satisfied: absl-py in /usr/local/lib/python3.10/dist-packages (from fiddle->nemo_toolkit[asr]) (1.4.0)\n",
            "Requirement already satisfied: graphviz in /usr/local/lib/python3.10/dist-packages (from fiddle->nemo_toolkit[asr]) (0.20.3)\n",
            "Requirement already satisfied: libcst in /usr/local/lib/python3.10/dist-packages (from fiddle->nemo_toolkit[asr]) (1.5.1)\n",
            "Requirement already satisfied: nltk>=3.2.4 in /usr/local/lib/python3.10/dist-packages (from g2p-en->nemo_toolkit[asr]) (3.9.1)\n",
            "Requirement already satisfied: distance>=0.1.3 in /usr/local/lib/python3.10/dist-packages (from g2p-en->nemo_toolkit[asr]) (0.1.3)\n",
            "Requirement already satisfied: more-itertools>=8.5.0 in /usr/local/lib/python3.10/dist-packages (from inflect->nemo_toolkit[asr]) (10.5.0)\n",
            "Requirement already satisfied: typeguard>=4.0.1 in /usr/local/lib/python3.10/dist-packages (from inflect->nemo_toolkit[asr]) (4.4.1)\n",
            "Requirement already satisfied: rapidfuzz<4,>=3 in /usr/local/lib/python3.10/dist-packages (from jiwer->nemo_toolkit[asr]) (3.11.0)\n",
            "Requirement already satisfied: pytz>=2020.1 in /usr/local/lib/python3.10/dist-packages (from pandas->nemo_toolkit[asr]) (2024.2)\n",
            "Requirement already satisfied: tzdata>=2022.7 in /usr/local/lib/python3.10/dist-packages (from pandas->nemo_toolkit[asr]) (2024.2)\n",
            "Requirement already satisfied: six>=1.5 in /usr/local/lib/python3.10/dist-packages (from python-dateutil->nemo_toolkit[asr]) (1.17.0)\n",
            "Requirement already satisfied: sortedcontainers>=2.0.4 in /usr/local/lib/python3.10/dist-packages (from pyannote.core->nemo_toolkit[asr]) (2.4.0)\n",
            "Requirement already satisfied: pyannote.database>=4.0.1 in /usr/local/lib/python3.10/dist-packages (from pyannote.metrics->nemo_toolkit[asr]) (5.1.0)\n",
            "Requirement already satisfied: docopt>=0.6.2 in /usr/local/lib/python3.10/dist-packages (from pyannote.metrics->nemo_toolkit[asr]) (0.6.2)\n",
            "Requirement already satisfied: matplotlib>=2.0.0 in /usr/local/lib/python3.10/dist-packages (from pyannote.metrics->nemo_toolkit[asr]) (3.8.0)\n",
            "Requirement already satisfied: future>=0.16.0 in /usr/local/lib/python3.10/dist-packages (from pyloudnorm->nemo_toolkit[asr]) (1.0.0)\n",
            "Requirement already satisfied: ruamel.yaml.clib>=0.2.7 in /usr/local/lib/python3.10/dist-packages (from ruamel.yaml->nemo_toolkit[asr]) (0.2.12)\n",
            "Requirement already satisfied: grpcio>=1.48.2 in /usr/local/lib/python3.10/dist-packages (from tensorboard->nemo_toolkit[asr]) (1.68.1)\n",
            "Requirement already satisfied: markdown>=2.6.8 in /usr/local/lib/python3.10/dist-packages (from tensorboard->nemo_toolkit[asr]) (3.7)\n",
            "Requirement already satisfied: tensorboard-data-server<0.8.0,>=0.7.0 in /usr/local/lib/python3.10/dist-packages (from tensorboard->nemo_toolkit[asr]) (0.7.2)\n",
            "Requirement already satisfied: werkzeug>=1.0.1 in /usr/local/lib/python3.10/dist-packages (from tensorboard->nemo_toolkit[asr]) (3.1.3)\n",
            "Requirement already satisfied: pybind11 in /usr/local/lib/python3.10/dist-packages (from texterrors->nemo_toolkit[asr]) (2.13.6)\n",
            "Requirement already satisfied: plac in /usr/local/lib/python3.10/dist-packages (from texterrors->nemo_toolkit[asr]) (1.4.3)\n",
            "Requirement already satisfied: loguru in /usr/local/lib/python3.10/dist-packages (from texterrors->nemo_toolkit[asr]) (0.7.3)\n",
            "Requirement already satisfied: termcolor in /usr/local/lib/python3.10/dist-packages (from texterrors->nemo_toolkit[asr]) (2.5.0)\n",
            "Requirement already satisfied: Levenshtein in /usr/local/lib/python3.10/dist-packages (from texterrors->nemo_toolkit[asr]) (0.26.1)\n",
            "Requirement already satisfied: docker-pycreds>=0.4.0 in /usr/local/lib/python3.10/dist-packages (from wandb->nemo_toolkit[asr]) (0.4.0)\n",
            "Requirement already satisfied: gitpython!=3.1.29,>=1.0.0 in /usr/local/lib/python3.10/dist-packages (from wandb->nemo_toolkit[asr]) (3.1.43)\n",
            "Requirement already satisfied: platformdirs in /usr/local/lib/python3.10/dist-packages (from wandb->nemo_toolkit[asr]) (4.3.6)\n",
            "Requirement already satisfied: psutil>=5.0.0 in /usr/local/lib/python3.10/dist-packages (from wandb->nemo_toolkit[asr]) (5.9.5)\n",
            "Requirement already satisfied: pydantic<3,>=2.6 in /usr/local/lib/python3.10/dist-packages (from wandb->nemo_toolkit[asr]) (2.10.3)\n",
            "Requirement already satisfied: sentry-sdk>=2.0.0 in /usr/local/lib/python3.10/dist-packages (from wandb->nemo_toolkit[asr]) (2.19.2)\n",
            "Requirement already satisfied: setproctitle in /usr/local/lib/python3.10/dist-packages (from wandb->nemo_toolkit[asr]) (1.3.4)\n",
            "Requirement already satisfied: pycparser in /usr/local/lib/python3.10/dist-packages (from cffi>=1.0->soundfile->nemo_toolkit[asr]) (2.22)\n",
            "Requirement already satisfied: toolz>=0.8.0 in /usr/local/lib/python3.10/dist-packages (from cytoolz>=0.10.1->lhotse>=1.26.0->nemo_toolkit[asr]) (0.12.1)\n",
            "Requirement already satisfied: aiohappyeyeballs>=2.3.0 in /usr/local/lib/python3.10/dist-packages (from aiohttp->datasets->nemo_toolkit[asr]) (2.4.4)\n",
            "Requirement already satisfied: aiosignal>=1.1.2 in /usr/local/lib/python3.10/dist-packages (from aiohttp->datasets->nemo_toolkit[asr]) (1.3.2)\n",
            "Requirement already satisfied: async-timeout<6.0,>=4.0 in /usr/local/lib/python3.10/dist-packages (from aiohttp->datasets->nemo_toolkit[asr]) (4.0.3)\n",
            "Requirement already satisfied: attrs>=17.3.0 in /usr/local/lib/python3.10/dist-packages (from aiohttp->datasets->nemo_toolkit[asr]) (24.3.0)\n",
            "Requirement already satisfied: frozenlist>=1.1.1 in /usr/local/lib/python3.10/dist-packages (from aiohttp->datasets->nemo_toolkit[asr]) (1.5.0)\n",
            "Requirement already satisfied: multidict<7.0,>=4.5 in /usr/local/lib/python3.10/dist-packages (from aiohttp->datasets->nemo_toolkit[asr]) (6.1.0)\n",
            "Requirement already satisfied: propcache>=0.2.0 in /usr/local/lib/python3.10/dist-packages (from aiohttp->datasets->nemo_toolkit[asr]) (0.2.1)\n",
            "Requirement already satisfied: yarl<2.0,>=1.17.0 in /usr/local/lib/python3.10/dist-packages (from aiohttp->datasets->nemo_toolkit[asr]) (1.18.3)\n",
            "Requirement already satisfied: gitdb<5,>=4.0.1 in /usr/local/lib/python3.10/dist-packages (from gitpython!=3.1.29,>=1.0.0->wandb->nemo_toolkit[asr]) (4.0.11)\n",
            "Requirement already satisfied: contourpy>=1.0.1 in /usr/local/lib/python3.10/dist-packages (from matplotlib>=2.0.0->pyannote.metrics->nemo_toolkit[asr]) (1.3.1)\n",
            "Requirement already satisfied: cycler>=0.10 in /usr/local/lib/python3.10/dist-packages (from matplotlib>=2.0.0->pyannote.metrics->nemo_toolkit[asr]) (0.12.1)\n",
            "Requirement already satisfied: fonttools>=4.22.0 in /usr/local/lib/python3.10/dist-packages (from matplotlib>=2.0.0->pyannote.metrics->nemo_toolkit[asr]) (4.55.3)\n",
            "Requirement already satisfied: kiwisolver>=1.0.1 in /usr/local/lib/python3.10/dist-packages (from matplotlib>=2.0.0->pyannote.metrics->nemo_toolkit[asr]) (1.4.7)\n",
            "Requirement already satisfied: pillow>=6.2.0 in /usr/local/lib/python3.10/dist-packages (from matplotlib>=2.0.0->pyannote.metrics->nemo_toolkit[asr]) (11.0.0)\n",
            "Requirement already satisfied: pyparsing>=2.3.1 in /usr/local/lib/python3.10/dist-packages (from matplotlib>=2.0.0->pyannote.metrics->nemo_toolkit[asr]) (3.2.0)\n",
            "Requirement already satisfied: typer>=0.12.1 in /usr/local/lib/python3.10/dist-packages (from pyannote.database>=4.0.1->pyannote.metrics->nemo_toolkit[asr]) (0.15.1)\n",
            "Requirement already satisfied: annotated-types>=0.6.0 in /usr/local/lib/python3.10/dist-packages (from pydantic<3,>=2.6->wandb->nemo_toolkit[asr]) (0.7.0)\n",
            "Requirement already satisfied: pydantic-core==2.27.1 in /usr/local/lib/python3.10/dist-packages (from pydantic<3,>=2.6->wandb->nemo_toolkit[asr]) (2.27.1)\n",
            "Requirement already satisfied: charset-normalizer<4,>=2 in /usr/local/lib/python3.10/dist-packages (from requests->huggingface-hub>=0.24->nemo_toolkit[asr]) (3.4.0)\n",
            "Requirement already satisfied: idna<4,>=2.5 in /usr/local/lib/python3.10/dist-packages (from requests->huggingface-hub>=0.24->nemo_toolkit[asr]) (3.10)\n",
            "Requirement already satisfied: urllib3<3,>=1.21.1 in /usr/local/lib/python3.10/dist-packages (from requests->huggingface-hub>=0.24->nemo_toolkit[asr]) (2.2.3)\n",
            "Requirement already satisfied: certifi>=2017.4.17 in /usr/local/lib/python3.10/dist-packages (from requests->huggingface-hub>=0.24->nemo_toolkit[asr]) (2024.12.14)\n",
            "Requirement already satisfied: MarkupSafe>=2.1.1 in /usr/local/lib/python3.10/dist-packages (from werkzeug>=1.0.1->tensorboard->nemo_toolkit[asr]) (3.0.2)\n",
            "Requirement already satisfied: smmap<6,>=3.0.1 in /usr/local/lib/python3.10/dist-packages (from gitdb<5,>=4.0.1->gitpython!=3.1.29,>=1.0.0->wandb->nemo_toolkit[asr]) (5.0.1)\n",
            "Requirement already satisfied: shellingham>=1.3.0 in /usr/local/lib/python3.10/dist-packages (from typer>=0.12.1->pyannote.database>=4.0.1->pyannote.metrics->nemo_toolkit[asr]) (1.5.4)\n",
            "Requirement already satisfied: rich>=10.11.0 in /usr/local/lib/python3.10/dist-packages (from typer>=0.12.1->pyannote.database>=4.0.1->pyannote.metrics->nemo_toolkit[asr]) (13.9.4)\n",
            "Requirement already satisfied: markdown-it-py>=2.2.0 in /usr/local/lib/python3.10/dist-packages (from rich>=10.11.0->typer>=0.12.1->pyannote.database>=4.0.1->pyannote.metrics->nemo_toolkit[asr]) (3.0.0)\n",
            "Requirement already satisfied: pygments<3.0.0,>=2.13.0 in /usr/local/lib/python3.10/dist-packages (from rich>=10.11.0->typer>=0.12.1->pyannote.database>=4.0.1->pyannote.metrics->nemo_toolkit[asr]) (2.18.0)\n",
            "Requirement already satisfied: mdurl~=0.1 in /usr/local/lib/python3.10/dist-packages (from markdown-it-py>=2.2.0->rich>=10.11.0->typer>=0.12.1->pyannote.database>=4.0.1->pyannote.metrics->nemo_toolkit[asr]) (0.1.2)\n"
          ]
        }
      ]
    },
    {
      "cell_type": "code",
      "source": [
        "import os\n",
        "import pandas as pd\n",
        "import librosa\n",
        "import torch\n",
        "from jiwer import wer\n",
        "from transformers import (\n",
        "    Wav2Vec2Processor,\n",
        "    Wav2Vec2ForCTC,\n",
        "    HubertForCTC,\n",
        "    WhisperProcessor,\n",
        "    WhisperForConditionalGeneration,\n",
        ")\n",
        "from nemo.collections.asr.models import ASRModel\n",
        "from speechbrain.pretrained import EncoderDecoderASR\n",
        "import time\n",
        "import matplotlib.pyplot as plt\n",
        "\n",
        "# Cargar modelos: cada uno como función separada\n",
        "def load_nemo_model(model_name, nemo_path):\n",
        "    \"\"\"\n",
        "    Cargar modelos NVIDIA NeMo\n",
        "    \"\"\"\n",
        "    try:\n",
        "        model = ASRModel.from_pretrained(nemo_path)\n",
        "        print(f\"Modelo {model_name} cargado correctamente.\")\n",
        "        return model\n",
        "    except Exception as e:\n",
        "        print(f\"Error cargando modelo {model_name}: {e}\")\n",
        "        return None\n",
        "\n",
        "\n",
        "def load_huggingface_model(model_name, processor_path, model_path, whisper=False):\n",
        "    \"\"\"\n",
        "    Cargar modelos de Hugging Face\n",
        "    \"\"\"\n",
        "    try:\n",
        "        processor = WhisperProcessor.from_pretrained(processor_path) if whisper else Wav2Vec2Processor.from_pretrained(processor_path)\n",
        "        model = (\n",
        "            WhisperForConditionalGeneration.from_pretrained(model_path)\n",
        "            if whisper\n",
        "            else Wav2Vec2ForCTC.from_pretrained(model_path)\n",
        "        )\n",
        "        print(f\"Modelo {model_name} cargado correctamente.\")\n",
        "        return {\"processor\": processor, \"model\": model}\n",
        "    except Exception as e:\n",
        "        print(f\"Error cargando modelo {model_name}: {e}\")\n",
        "        return None\n",
        "\n",
        "\n",
        "def load_speechbrain_model(model_name, model_path):\n",
        "    \"\"\"\n",
        "    Cargar modelos de SpeechBrain\n",
        "    \"\"\"\n",
        "    try:\n",
        "        model = EncoderDecoderASR.from_hparams(source=model_path, savedir=f\"pretrained_models/{model_name}\")\n",
        "        print(f\"Modelo {model_name} cargado correctamente.\")\n",
        "        return model\n",
        "    except Exception as e:\n",
        "        print(f\"Error cargando modelo {model_name}: {e}\")\n",
        "        return None"
      ],
      "metadata": {
        "id": "fjuFKp3QWPxc"
      },
      "execution_count": null,
      "outputs": []
    },
    {
      "cell_type": "code",
      "source": [
        "# Cargar todos los modelos\n",
        "def load_models():\n",
        "    models = {\n",
        "        \"Jasper\": {\n",
        "            \"framework\": \"NVIDIA NeMo\",\n",
        "            \"model\": load_nemo_model(\"Jasper\", \"stt_en_jasper10x5dr\"),\n",
        "        },\n",
        "        \"QuartzNet\": {\n",
        "            \"framework\": \"NVIDIA NeMo\",\n",
        "            \"model\": load_nemo_model(\"QuartzNet\", \"stt_en_quartznet15x5\"),\n",
        "        },\n",
        "        \"Conformer\": {\n",
        "            \"framework\": \"NVIDIA NeMo\",\n",
        "            \"model\": load_nemo_model(\"Conformer\", \"stt_en_conformer_ctc_large\"),\n",
        "        },\n",
        "        \"Wav2Vec2.0\": {\n",
        "            \"framework\": \"Hugging Face\",\n",
        "            \"hf\": load_huggingface_model(\n",
        "                \"Wav2Vec2.0\", \"facebook/wav2vec2-large-960h\", \"facebook/wav2vec2-large-960h\"\n",
        "            ),\n",
        "        },\n",
        "\n",
        "        \"SpeechBrain\": {\n",
        "            \"framework\": \"SpeechBrain\",\n",
        "            \"model\": load_speechbrain_model(\n",
        "                \"SpeechBrain\", \"speechbrain/asr-transformer-transformerlm-librispeech\"\n",
        "            ),\n",
        "        }\n",
        "    }\n",
        "    return models"
      ],
      "metadata": {
        "id": "mZGB1UlHWP6V"
      },
      "execution_count": null,
      "outputs": []
    },
    {
      "cell_type": "code",
      "source": [
        "# Función para evaluar un modelo en un archivo de audio\n",
        "def evaluate_model(model_name, config, audio_path, expected_transcription):\n",
        "    \"\"\"\n",
        "    Evaluar un modelo en un archivo de audio y calcular WER.\n",
        "    \"\"\"\n",
        "    try:\n",
        "        # Cargar audio\n",
        "        audio, sr = librosa.load(audio_path, sr=16000)\n",
        "\n",
        "        # Procesar según el framework\n",
        "        start_time = time.time()\n",
        "        if config[\"framework\"] == \"NVIDIA NeMo\":\n",
        "            transcription = config[\"model\"].transcribe([audio_path])[0]\n",
        "        elif config[\"framework\"] == \"Hugging Face\":\n",
        "            inputs = config[\"hf\"][\"processor\"](audio, sampling_rate=16000, return_tensors=\"pt\", padding=True)\n",
        "            if model_name == \"Whisper\":\n",
        "                generated_ids = config[\"hf\"][\"model\"].generate(inputs.input_features)\n",
        "                transcription = config[\"hf\"][\"processor\"].batch_decode(\n",
        "                    generated_ids, skip_special_tokens=True\n",
        "                )[0]\n",
        "            else:\n",
        "                logits = config[\"hf\"][\"model\"](inputs.input_values).logits\n",
        "                predicted_ids = torch.argmax(logits, dim=-1)\n",
        "                transcription = config[\"hf\"][\"processor\"].batch_decode(predicted_ids)[0]\n",
        "        elif config[\"framework\"] == \"SpeechBrain\":\n",
        "            transcription = config[\"model\"].transcribe_file(audio_path)\n",
        "\n",
        "        # Calcular tiempo de inferencia y WER\n",
        "        inference_time = time.time() - start_time\n",
        "        error_rate = wer(expected_transcription.lower(), transcription.lower())\n",
        "\n",
        "        return transcription, error_rate, inference_time\n",
        "\n",
        "    except Exception as e:\n",
        "        print(f\"Error evaluando el modelo {model_name}: {e}\")\n",
        "        return None, None, None\n",
        "\n",
        "\n",
        "# Evaluar todos los modelos\n",
        "def evaluate_all_models(models, transcriptions_df):\n",
        "    results = []\n",
        "    for _, row in transcriptions_df.iterrows():\n",
        "        audio_path = row[\"wav_path\"]\n",
        "        expected_transcription = row[\"transcription\"]\n",
        "\n",
        "        print(f\"\\nEvaluando archivo: {audio_path}\")\n",
        "        for model_name, config in models.items():\n",
        "            print(f\"  -> Modelo: {model_name}\")\n",
        "            transcription, error_rate, inference_time = evaluate_model(\n",
        "                model_name, config, audio_path, expected_transcription\n",
        "            )\n",
        "            if transcription is not None:\n",
        "                results.append(\n",
        "                    {\n",
        "                        \"audio_file\": audio_path,\n",
        "                        \"model\": model_name,\n",
        "                        \"expected_transcription\": expected_transcription,\n",
        "                        \"generated_transcription\": transcription,\n",
        "                        \"wer\": error_rate,\n",
        "                        \"inference_time\": inference_time,\n",
        "                    }\n",
        "                )\n",
        "    return pd.DataFrame(results)\n"
      ],
      "metadata": {
        "id": "Wiua5OMyXolc"
      },
      "execution_count": null,
      "outputs": []
    },
    {
      "cell_type": "code",
      "source": [
        "# Cargar modelos\n",
        "models = load_models()"
      ],
      "metadata": {
        "id": "TDJkNo50NVog",
        "colab": {
          "base_uri": "https://localhost:8080/"
        },
        "outputId": "56b0c65c-a83d-4a3d-d795-8960fa80da21",
        "collapsed": true
      },
      "execution_count": null,
      "outputs": [
        {
          "output_type": "stream",
          "name": "stdout",
          "text": [
            "[NeMo I 2024-12-22 22:14:03 cloud:58] Found existing object /root/.cache/torch/NeMo/NeMo_2.0.0/stt_en_jasper10x5dr/856ae08d5c4bd78b5e27f696e96f7aab/stt_en_jasper10x5dr.nemo.\n",
            "[NeMo I 2024-12-22 22:14:03 cloud:64] Re-using file from: /root/.cache/torch/NeMo/NeMo_2.0.0/stt_en_jasper10x5dr/856ae08d5c4bd78b5e27f696e96f7aab/stt_en_jasper10x5dr.nemo\n",
            "[NeMo I 2024-12-22 22:14:03 common:826] Instantiating model from pre-trained checkpoint\n"
          ]
        },
        {
          "output_type": "stream",
          "name": "stderr",
          "text": [
            "[NeMo W 2024-12-22 22:14:40 modelPT:176] If you intend to do training or fine-tuning, please call the ModelPT.setup_training_data() method and provide a valid configuration file to setup the train data loader.\n",
            "    Train config : \n",
            "    manifest_filepath: /data2/voices/train_1k.json\n",
            "    sample_rate: 16000\n",
            "    labels:\n",
            "    - ' '\n",
            "    - a\n",
            "    - b\n",
            "    - c\n",
            "    - d\n",
            "    - e\n",
            "    - f\n",
            "    - g\n",
            "    - h\n",
            "    - i\n",
            "    - j\n",
            "    - k\n",
            "    - l\n",
            "    - m\n",
            "    - 'n'\n",
            "    - o\n",
            "    - p\n",
            "    - q\n",
            "    - r\n",
            "    - s\n",
            "    - t\n",
            "    - u\n",
            "    - v\n",
            "    - w\n",
            "    - x\n",
            "    - 'y'\n",
            "    - z\n",
            "    - ''''\n",
            "    batch_size: 32\n",
            "    trim_silence: true\n",
            "    max_duration: 16.7\n",
            "    shuffle: true\n",
            "    is_tarred: false\n",
            "    tarred_audio_filepaths: null\n",
            "    \n",
            "[NeMo W 2024-12-22 22:14:40 modelPT:183] If you intend to do validation, please call the ModelPT.setup_validation_data() or ModelPT.setup_multiple_validation_data() method and provide a valid configuration file to setup the validation data loader(s). \n",
            "    Validation config : \n",
            "    manifest_filepath: /data2/voices/train_1k_samp.json\n",
            "    sample_rate: 16000\n",
            "    labels:\n",
            "    - ' '\n",
            "    - a\n",
            "    - b\n",
            "    - c\n",
            "    - d\n",
            "    - e\n",
            "    - f\n",
            "    - g\n",
            "    - h\n",
            "    - i\n",
            "    - j\n",
            "    - k\n",
            "    - l\n",
            "    - m\n",
            "    - 'n'\n",
            "    - o\n",
            "    - p\n",
            "    - q\n",
            "    - r\n",
            "    - s\n",
            "    - t\n",
            "    - u\n",
            "    - v\n",
            "    - w\n",
            "    - x\n",
            "    - 'y'\n",
            "    - z\n",
            "    - ''''\n",
            "    batch_size: 32\n",
            "    shuffle: false\n",
            "    \n"
          ]
        },
        {
          "output_type": "stream",
          "name": "stdout",
          "text": [
            "[NeMo I 2024-12-22 22:14:40 features:305] PADDING: 16\n"
          ]
        },
        {
          "output_type": "stream",
          "name": "stderr",
          "text": [
            "[NeMo W 2024-12-22 22:14:55 nemo_logging:349] /usr/local/lib/python3.10/dist-packages/nemo/core/connectors/save_restore_connector.py:682: FutureWarning: You are using `torch.load` with `weights_only=False` (the current default value), which uses the default pickle module implicitly. It is possible to construct malicious pickle data which will execute arbitrary code during unpickling (See https://github.com/pytorch/pytorch/blob/main/SECURITY.md#untrusted-models for more details). In a future release, the default value for `weights_only` will be flipped to `True`. This limits the functions that could be executed during unpickling. Arbitrary objects will no longer be allowed to be loaded via this mode unless they are explicitly allowlisted by the user via `torch.serialization.add_safe_globals`. We recommend you start setting `weights_only=True` for any use case where you don't have full control of the loaded file. Please open an issue on GitHub for any issues related to this experimental feature.\n",
            "      return torch.load(model_weights, map_location='cpu')\n",
            "    \n"
          ]
        },
        {
          "output_type": "stream",
          "name": "stdout",
          "text": [
            "[NeMo I 2024-12-22 22:15:01 save_restore_connector:275] Model EncDecCTCModel was successfully restored from /root/.cache/torch/NeMo/NeMo_2.0.0/stt_en_jasper10x5dr/856ae08d5c4bd78b5e27f696e96f7aab/stt_en_jasper10x5dr.nemo.\n",
            "Modelo Jasper cargado correctamente.\n",
            "[NeMo I 2024-12-22 22:15:01 cloud:58] Found existing object /root/.cache/torch/NeMo/NeMo_2.0.0/stt_en_quartznet15x5/16661021d16e679bdfd97a2a03944c49/stt_en_quartznet15x5.nemo.\n",
            "[NeMo I 2024-12-22 22:15:01 cloud:64] Re-using file from: /root/.cache/torch/NeMo/NeMo_2.0.0/stt_en_quartznet15x5/16661021d16e679bdfd97a2a03944c49/stt_en_quartznet15x5.nemo\n",
            "[NeMo I 2024-12-22 22:15:01 common:826] Instantiating model from pre-trained checkpoint\n"
          ]
        },
        {
          "output_type": "stream",
          "name": "stderr",
          "text": [
            "[NeMo W 2024-12-22 22:15:03 modelPT:176] If you intend to do training or fine-tuning, please call the ModelPT.setup_training_data() method and provide a valid configuration file to setup the train data loader.\n",
            "    Train config : \n",
            "    manifest_filepath: /data2/voices/train_1k.json\n",
            "    sample_rate: 16000\n",
            "    labels:\n",
            "    - ' '\n",
            "    - a\n",
            "    - b\n",
            "    - c\n",
            "    - d\n",
            "    - e\n",
            "    - f\n",
            "    - g\n",
            "    - h\n",
            "    - i\n",
            "    - j\n",
            "    - k\n",
            "    - l\n",
            "    - m\n",
            "    - 'n'\n",
            "    - o\n",
            "    - p\n",
            "    - q\n",
            "    - r\n",
            "    - s\n",
            "    - t\n",
            "    - u\n",
            "    - v\n",
            "    - w\n",
            "    - x\n",
            "    - 'y'\n",
            "    - z\n",
            "    - ''''\n",
            "    batch_size: 32\n",
            "    trim_silence: true\n",
            "    max_duration: 16.7\n",
            "    shuffle: true\n",
            "    is_tarred: false\n",
            "    tarred_audio_filepaths: /asr_set_1.2/train/train_{0..1023}.tar\n",
            "    num_workers: 20\n",
            "    \n",
            "[NeMo W 2024-12-22 22:15:03 modelPT:183] If you intend to do validation, please call the ModelPT.setup_validation_data() or ModelPT.setup_multiple_validation_data() method and provide a valid configuration file to setup the validation data loader(s). \n",
            "    Validation config : \n",
            "    manifest_filepath: /data2/voices/train_1k_samp.json\n",
            "    sample_rate: 16000\n",
            "    labels:\n",
            "    - ' '\n",
            "    - a\n",
            "    - b\n",
            "    - c\n",
            "    - d\n",
            "    - e\n",
            "    - f\n",
            "    - g\n",
            "    - h\n",
            "    - i\n",
            "    - j\n",
            "    - k\n",
            "    - l\n",
            "    - m\n",
            "    - 'n'\n",
            "    - o\n",
            "    - p\n",
            "    - q\n",
            "    - r\n",
            "    - s\n",
            "    - t\n",
            "    - u\n",
            "    - v\n",
            "    - w\n",
            "    - x\n",
            "    - 'y'\n",
            "    - z\n",
            "    - ''''\n",
            "    batch_size: 32\n",
            "    shuffle: false\n",
            "    \n"
          ]
        },
        {
          "output_type": "stream",
          "name": "stdout",
          "text": [
            "[NeMo I 2024-12-22 22:15:03 features:305] PADDING: 16\n",
            "[NeMo I 2024-12-22 22:15:04 save_restore_connector:275] Model EncDecCTCModel was successfully restored from /root/.cache/torch/NeMo/NeMo_2.0.0/stt_en_quartznet15x5/16661021d16e679bdfd97a2a03944c49/stt_en_quartznet15x5.nemo.\n",
            "Modelo QuartzNet cargado correctamente.\n",
            "[NeMo I 2024-12-22 22:15:04 cloud:58] Found existing object /root/.cache/torch/NeMo/NeMo_2.0.0/stt_en_conformer_ctc_large/afb212c5bcf904e326b5e5751e7c7465/stt_en_conformer_ctc_large.nemo.\n",
            "[NeMo I 2024-12-22 22:15:04 cloud:64] Re-using file from: /root/.cache/torch/NeMo/NeMo_2.0.0/stt_en_conformer_ctc_large/afb212c5bcf904e326b5e5751e7c7465/stt_en_conformer_ctc_large.nemo\n",
            "[NeMo I 2024-12-22 22:15:04 common:826] Instantiating model from pre-trained checkpoint\n",
            "[NeMo I 2024-12-22 22:15:13 mixins:173] Tokenizer SentencePieceTokenizer initialized with 128 tokens\n"
          ]
        },
        {
          "output_type": "stream",
          "name": "stderr",
          "text": [
            "[NeMo W 2024-12-22 22:15:13 modelPT:176] If you intend to do training or fine-tuning, please call the ModelPT.setup_training_data() method and provide a valid configuration file to setup the train data loader.\n",
            "    Train config : \n",
            "    manifest_filepath:\n",
            "    - - /data2/nemo_asr/nemo_asr_set_3.0/bucket1/tarred_audio_manifest.json\n",
            "    - - /data2/nemo_asr/nemo_asr_set_3.0/bucket2/tarred_audio_manifest.json\n",
            "    - - /data2/nemo_asr/nemo_asr_set_3.0/bucket3/tarred_audio_manifest.json\n",
            "    - - /data2/nemo_asr/nemo_asr_set_3.0/bucket4/tarred_audio_manifest.json\n",
            "    - - /data2/nemo_asr/nemo_asr_set_3.0/bucket5/tarred_audio_manifest.json\n",
            "    - - /data2/nemo_asr/nemo_asr_set_3.0/bucket6/tarred_audio_manifest.json\n",
            "    - - /data2/nemo_asr/nemo_asr_set_3.0/bucket7/tarred_audio_manifest.json\n",
            "    - - /data2/nemo_asr/nemo_asr_set_3.0/bucket8/tarred_audio_manifest.json\n",
            "    sample_rate: 16000\n",
            "    batch_size: 1\n",
            "    shuffle: true\n",
            "    num_workers: 4\n",
            "    pin_memory: true\n",
            "    use_start_end_token: false\n",
            "    trim_silence: false\n",
            "    max_duration: 20.0\n",
            "    min_duration: 0.1\n",
            "    is_tarred: true\n",
            "    tarred_audio_filepaths:\n",
            "    - - /data2/nemo_asr/nemo_asr_set_3.0/bucket1/audio__OP_0..8191_CL_.tar\n",
            "    - - /data2/nemo_asr/nemo_asr_set_3.0/bucket2/audio__OP_0..8191_CL_.tar\n",
            "    - - /data2/nemo_asr/nemo_asr_set_3.0/bucket3/audio__OP_0..8191_CL_.tar\n",
            "    - - /data2/nemo_asr/nemo_asr_set_3.0/bucket4/audio__OP_0..8191_CL_.tar\n",
            "    - - /data2/nemo_asr/nemo_asr_set_3.0/bucket5/audio__OP_0..8191_CL_.tar\n",
            "    - - /data2/nemo_asr/nemo_asr_set_3.0/bucket6/audio__OP_0..8191_CL_.tar\n",
            "    - - /data2/nemo_asr/nemo_asr_set_3.0/bucket7/audio__OP_0..8191_CL_.tar\n",
            "    - - /data2/nemo_asr/nemo_asr_set_3.0/bucket8/audio__OP_0..8191_CL_.tar\n",
            "    shuffle_n: 2048\n",
            "    bucketing_strategy: synced_randomized\n",
            "    bucketing_batch_size:\n",
            "    - 34\n",
            "    - 30\n",
            "    - 26\n",
            "    - 22\n",
            "    - 18\n",
            "    - 16\n",
            "    - 12\n",
            "    - 8\n",
            "    \n",
            "[NeMo W 2024-12-22 22:15:13 modelPT:183] If you intend to do validation, please call the ModelPT.setup_validation_data() or ModelPT.setup_multiple_validation_data() method and provide a valid configuration file to setup the validation data loader(s). \n",
            "    Validation config : \n",
            "    manifest_filepath:\n",
            "    - /manifests/librispeech/librivox-dev-other.json\n",
            "    - /manifests/librispeech/librivox-dev-clean.json\n",
            "    - /manifests/librispeech/librivox-test-other.json\n",
            "    - /manifests/librispeech/librivox-test-clean.json\n",
            "    sample_rate: 16000\n",
            "    batch_size: 32\n",
            "    shuffle: false\n",
            "    num_workers: 8\n",
            "    pin_memory: true\n",
            "    use_start_end_token: false\n",
            "    \n",
            "[NeMo W 2024-12-22 22:15:13 modelPT:189] Please call the ModelPT.setup_test_data() or ModelPT.setup_multiple_test_data() method and provide a valid configuration file to setup the test data loader(s).\n",
            "    Test config : \n",
            "    manifest_filepath:\n",
            "    - /manifests/librispeech/librivox-dev-other.json\n",
            "    - /manifests/librispeech/librivox-dev-clean.json\n",
            "    - /manifests/librispeech/librivox-test-other.json\n",
            "    - /manifests/librispeech/librivox-test-clean.json\n",
            "    sample_rate: 16000\n",
            "    batch_size: 32\n",
            "    shuffle: false\n",
            "    num_workers: 8\n",
            "    pin_memory: true\n",
            "    use_start_end_token: false\n",
            "    \n"
          ]
        },
        {
          "output_type": "stream",
          "name": "stdout",
          "text": [
            "[NeMo I 2024-12-22 22:15:13 features:305] PADDING: 0\n",
            "[NeMo I 2024-12-22 22:15:15 save_restore_connector:275] Model EncDecCTCModelBPE was successfully restored from /root/.cache/torch/NeMo/NeMo_2.0.0/stt_en_conformer_ctc_large/afb212c5bcf904e326b5e5751e7c7465/stt_en_conformer_ctc_large.nemo.\n",
            "Modelo Conformer cargado correctamente.\n"
          ]
        },
        {
          "output_type": "stream",
          "name": "stderr",
          "text": [
            "Some weights of Wav2Vec2ForCTC were not initialized from the model checkpoint at facebook/wav2vec2-large-960h and are newly initialized: ['wav2vec2.masked_spec_embed']\n",
            "You should probably TRAIN this model on a down-stream task to be able to use it for predictions and inference.\n"
          ]
        },
        {
          "output_type": "stream",
          "name": "stdout",
          "text": [
            "Modelo Wav2Vec2.0 cargado correctamente.\n"
          ]
        },
        {
          "output_type": "stream",
          "name": "stderr",
          "text": [
            "[NeMo W 2024-12-22 22:15:27 nemo_logging:349] /usr/local/lib/python3.10/dist-packages/speechbrain/processing/features.py:1311: FutureWarning: You are using `torch.load` with `weights_only=False` (the current default value), which uses the default pickle module implicitly. It is possible to construct malicious pickle data which will execute arbitrary code during unpickling (See https://github.com/pytorch/pytorch/blob/main/SECURITY.md#untrusted-models for more details). In a future release, the default value for `weights_only` will be flipped to `True`. This limits the functions that could be executed during unpickling. Arbitrary objects will no longer be allowed to be loaded via this mode unless they are explicitly allowlisted by the user via `torch.serialization.add_safe_globals`. We recommend you start setting `weights_only=True` for any use case where you don't have full control of the loaded file. Please open an issue on GitHub for any issues related to this experimental feature.\n",
            "      stats = torch.load(path, map_location=device)\n",
            "    \n",
            "[NeMo W 2024-12-22 22:15:27 nemo_logging:349] /usr/local/lib/python3.10/dist-packages/speechbrain/utils/checkpoints.py:200: FutureWarning: You are using `torch.load` with `weights_only=False` (the current default value), which uses the default pickle module implicitly. It is possible to construct malicious pickle data which will execute arbitrary code during unpickling (See https://github.com/pytorch/pytorch/blob/main/SECURITY.md#untrusted-models for more details). In a future release, the default value for `weights_only` will be flipped to `True`. This limits the functions that could be executed during unpickling. Arbitrary objects will no longer be allowed to be loaded via this mode unless they are explicitly allowlisted by the user via `torch.serialization.add_safe_globals`. We recommend you start setting `weights_only=True` for any use case where you don't have full control of the loaded file. Please open an issue on GitHub for any issues related to this experimental feature.\n",
            "      state_dict = torch.load(path, map_location=device)\n",
            "    \n"
          ]
        },
        {
          "output_type": "stream",
          "name": "stdout",
          "text": [
            "Modelo SpeechBrain cargado correctamente.\n"
          ]
        }
      ]
    },
    {
      "cell_type": "code",
      "source": [
        "# Cargar transcripciones\n",
        "transcriptions_df = pd.read_csv(\"transcriptions_test_clean.csv\")\n",
        "\n",
        "# Limitar a los primeros 5 audios\n",
        "transcriptions_df = transcriptions_df.head(10)\n",
        "\n",
        "# Evaluar los modelos\n",
        "results_df = evaluate_all_models(models, transcriptions_df)\n",
        "\n",
        "# Guardar resultados\n",
        "results_df.to_csv(\"evaluation_results.csv\", index=False)\n",
        "print(\"\\nResultados guardados en 'evaluation_results.csv'.\")"
      ],
      "metadata": {
        "colab": {
          "base_uri": "https://localhost:8080/"
        },
        "id": "Fz58hjZFXosd",
        "outputId": "7c12b06f-23ff-453a-d998-edfde93c5f37"
      },
      "execution_count": null,
      "outputs": [
        {
          "output_type": "stream",
          "name": "stdout",
          "text": [
            "\n",
            "Evaluando archivo: wav_files/6930-75918-0000.wav\n",
            "  -> Modelo: Jasper\n"
          ]
        },
        {
          "output_type": "stream",
          "name": "stderr",
          "text": [
            "Transcribing: 100%|██████████| 1/1 [00:02<00:00,  2.78s/it]\n"
          ]
        },
        {
          "output_type": "stream",
          "name": "stdout",
          "text": [
            "  -> Modelo: QuartzNet\n"
          ]
        },
        {
          "output_type": "stream",
          "name": "stderr",
          "text": [
            "Transcribing: 100%|██████████| 1/1 [00:00<00:00,  1.97it/s]\n"
          ]
        },
        {
          "output_type": "stream",
          "name": "stdout",
          "text": [
            "  -> Modelo: Conformer\n"
          ]
        },
        {
          "output_type": "stream",
          "name": "stderr",
          "text": [
            "Transcribing: 100%|██████████| 1/1 [00:00<00:00,  1.14it/s]\n"
          ]
        },
        {
          "output_type": "stream",
          "name": "stdout",
          "text": [
            "  -> Modelo: Wav2Vec2.0\n",
            "  -> Modelo: SpeechBrain\n",
            "\n",
            "Evaluando archivo: wav_files/6930-75918-0001.wav\n",
            "  -> Modelo: Jasper\n"
          ]
        },
        {
          "output_type": "stream",
          "name": "stderr",
          "text": [
            "Transcribing: 100%|██████████| 1/1 [00:13<00:00, 13.15s/it]\n"
          ]
        },
        {
          "output_type": "stream",
          "name": "stdout",
          "text": [
            "  -> Modelo: QuartzNet\n"
          ]
        },
        {
          "output_type": "stream",
          "name": "stderr",
          "text": [
            "Transcribing: 100%|██████████| 1/1 [00:01<00:00,  1.51s/it]\n"
          ]
        },
        {
          "output_type": "stream",
          "name": "stdout",
          "text": [
            "  -> Modelo: Conformer\n"
          ]
        },
        {
          "output_type": "stream",
          "name": "stderr",
          "text": [
            "Transcribing: 100%|██████████| 1/1 [00:02<00:00,  2.89s/it]\n"
          ]
        },
        {
          "output_type": "stream",
          "name": "stdout",
          "text": [
            "  -> Modelo: Wav2Vec2.0\n",
            "  -> Modelo: SpeechBrain\n",
            "\n",
            "Evaluando archivo: wav_files/6930-75918-0002.wav\n",
            "  -> Modelo: Jasper\n"
          ]
        },
        {
          "output_type": "stream",
          "name": "stderr",
          "text": [
            "Transcribing: 100%|██████████| 1/1 [00:05<00:00,  5.00s/it]\n"
          ]
        },
        {
          "output_type": "stream",
          "name": "stdout",
          "text": [
            "  -> Modelo: QuartzNet\n"
          ]
        },
        {
          "output_type": "stream",
          "name": "stderr",
          "text": [
            "Transcribing: 100%|██████████| 1/1 [00:01<00:00,  1.09s/it]\n"
          ]
        },
        {
          "output_type": "stream",
          "name": "stdout",
          "text": [
            "  -> Modelo: Conformer\n"
          ]
        },
        {
          "output_type": "stream",
          "name": "stderr",
          "text": [
            "Transcribing: 100%|██████████| 1/1 [00:01<00:00,  1.52s/it]\n"
          ]
        },
        {
          "output_type": "stream",
          "name": "stdout",
          "text": [
            "  -> Modelo: Wav2Vec2.0\n",
            "  -> Modelo: SpeechBrain\n",
            "\n",
            "Evaluando archivo: wav_files/6930-75918-0003.wav\n",
            "  -> Modelo: Jasper\n"
          ]
        },
        {
          "output_type": "stream",
          "name": "stderr",
          "text": [
            "Transcribing: 100%|██████████| 1/1 [00:23<00:00, 23.07s/it]\n"
          ]
        },
        {
          "output_type": "stream",
          "name": "stdout",
          "text": [
            "  -> Modelo: QuartzNet\n"
          ]
        },
        {
          "output_type": "stream",
          "name": "stderr",
          "text": [
            "Transcribing: 100%|██████████| 1/1 [00:03<00:00,  3.99s/it]\n"
          ]
        },
        {
          "output_type": "stream",
          "name": "stdout",
          "text": [
            "  -> Modelo: Conformer\n"
          ]
        },
        {
          "output_type": "stream",
          "name": "stderr",
          "text": [
            "Transcribing: 100%|██████████| 1/1 [00:04<00:00,  4.85s/it]\n"
          ]
        },
        {
          "output_type": "stream",
          "name": "stdout",
          "text": [
            "  -> Modelo: Wav2Vec2.0\n",
            "  -> Modelo: SpeechBrain\n",
            "\n",
            "Evaluando archivo: wav_files/6930-75918-0004.wav\n",
            "  -> Modelo: Jasper\n"
          ]
        },
        {
          "output_type": "stream",
          "name": "stderr",
          "text": [
            "Transcribing: 100%|██████████| 1/1 [00:08<00:00,  8.87s/it]\n"
          ]
        },
        {
          "output_type": "stream",
          "name": "stdout",
          "text": [
            "  -> Modelo: QuartzNet\n"
          ]
        },
        {
          "output_type": "stream",
          "name": "stderr",
          "text": [
            "Transcribing: 100%|██████████| 1/1 [00:01<00:00,  1.26s/it]\n"
          ]
        },
        {
          "output_type": "stream",
          "name": "stdout",
          "text": [
            "  -> Modelo: Conformer\n"
          ]
        },
        {
          "output_type": "stream",
          "name": "stderr",
          "text": [
            "Transcribing: 100%|██████████| 1/1 [00:02<00:00,  2.94s/it]\n"
          ]
        },
        {
          "output_type": "stream",
          "name": "stdout",
          "text": [
            "  -> Modelo: Wav2Vec2.0\n",
            "  -> Modelo: SpeechBrain\n",
            "\n",
            "Evaluando archivo: wav_files/6930-75918-0005.wav\n",
            "  -> Modelo: Jasper\n"
          ]
        },
        {
          "output_type": "stream",
          "name": "stderr",
          "text": [
            "Transcribing: 100%|██████████| 1/1 [00:10<00:00, 10.33s/it]\n"
          ]
        },
        {
          "output_type": "stream",
          "name": "stdout",
          "text": [
            "  -> Modelo: QuartzNet\n"
          ]
        },
        {
          "output_type": "stream",
          "name": "stderr",
          "text": [
            "Transcribing: 100%|██████████| 1/1 [00:02<00:00,  2.37s/it]\n"
          ]
        },
        {
          "output_type": "stream",
          "name": "stdout",
          "text": [
            "  -> Modelo: Conformer\n"
          ]
        },
        {
          "output_type": "stream",
          "name": "stderr",
          "text": [
            "Transcribing: 100%|██████████| 1/1 [00:03<00:00,  3.37s/it]\n"
          ]
        },
        {
          "output_type": "stream",
          "name": "stdout",
          "text": [
            "  -> Modelo: Wav2Vec2.0\n",
            "  -> Modelo: SpeechBrain\n",
            "\n",
            "Evaluando archivo: wav_files/6930-75918-0006.wav\n",
            "  -> Modelo: Jasper\n"
          ]
        },
        {
          "output_type": "stream",
          "name": "stderr",
          "text": [
            "Transcribing: 100%|██████████| 1/1 [00:04<00:00,  4.28s/it]\n"
          ]
        },
        {
          "output_type": "stream",
          "name": "stdout",
          "text": [
            "  -> Modelo: QuartzNet\n"
          ]
        },
        {
          "output_type": "stream",
          "name": "stderr",
          "text": [
            "Transcribing: 100%|██████████| 1/1 [00:00<00:00,  1.32it/s]\n"
          ]
        },
        {
          "output_type": "stream",
          "name": "stdout",
          "text": [
            "  -> Modelo: Conformer\n"
          ]
        },
        {
          "output_type": "stream",
          "name": "stderr",
          "text": [
            "Transcribing: 100%|██████████| 1/1 [00:01<00:00,  1.18s/it]\n"
          ]
        },
        {
          "output_type": "stream",
          "name": "stdout",
          "text": [
            "  -> Modelo: Wav2Vec2.0\n",
            "  -> Modelo: SpeechBrain\n",
            "\n",
            "Evaluando archivo: wav_files/6930-75918-0007.wav\n",
            "  -> Modelo: Jasper\n"
          ]
        },
        {
          "output_type": "stream",
          "name": "stderr",
          "text": [
            "Transcribing: 100%|██████████| 1/1 [00:02<00:00,  2.53s/it]\n"
          ]
        },
        {
          "output_type": "stream",
          "name": "stdout",
          "text": [
            "  -> Modelo: QuartzNet\n"
          ]
        },
        {
          "output_type": "stream",
          "name": "stderr",
          "text": [
            "Transcribing: 100%|██████████| 1/1 [00:00<00:00,  2.16it/s]\n"
          ]
        },
        {
          "output_type": "stream",
          "name": "stdout",
          "text": [
            "  -> Modelo: Conformer\n"
          ]
        },
        {
          "output_type": "stream",
          "name": "stderr",
          "text": [
            "Transcribing: 100%|██████████| 1/1 [00:00<00:00,  1.37it/s]\n"
          ]
        },
        {
          "output_type": "stream",
          "name": "stdout",
          "text": [
            "  -> Modelo: Wav2Vec2.0\n",
            "  -> Modelo: SpeechBrain\n",
            "\n",
            "Evaluando archivo: wav_files/6930-75918-0008.wav\n",
            "  -> Modelo: Jasper\n"
          ]
        },
        {
          "output_type": "stream",
          "name": "stderr",
          "text": [
            "Transcribing: 100%|██████████| 1/1 [00:05<00:00,  5.27s/it]\n"
          ]
        },
        {
          "output_type": "stream",
          "name": "stdout",
          "text": [
            "  -> Modelo: QuartzNet\n"
          ]
        },
        {
          "output_type": "stream",
          "name": "stderr",
          "text": [
            "Transcribing: 100%|██████████| 1/1 [00:01<00:00,  1.06s/it]\n"
          ]
        },
        {
          "output_type": "stream",
          "name": "stdout",
          "text": [
            "  -> Modelo: Conformer\n"
          ]
        },
        {
          "output_type": "stream",
          "name": "stderr",
          "text": [
            "Transcribing: 100%|██████████| 1/1 [00:00<00:00,  1.05it/s]\n"
          ]
        },
        {
          "output_type": "stream",
          "name": "stdout",
          "text": [
            "  -> Modelo: Wav2Vec2.0\n",
            "  -> Modelo: SpeechBrain\n",
            "\n",
            "Evaluando archivo: wav_files/6930-75918-0009.wav\n",
            "  -> Modelo: Jasper\n"
          ]
        },
        {
          "output_type": "stream",
          "name": "stderr",
          "text": [
            "Transcribing: 100%|██████████| 1/1 [00:05<00:00,  5.29s/it]\n"
          ]
        },
        {
          "output_type": "stream",
          "name": "stdout",
          "text": [
            "  -> Modelo: QuartzNet\n"
          ]
        },
        {
          "output_type": "stream",
          "name": "stderr",
          "text": [
            "Transcribing: 100%|██████████| 1/1 [00:00<00:00,  1.16it/s]\n"
          ]
        },
        {
          "output_type": "stream",
          "name": "stdout",
          "text": [
            "  -> Modelo: Conformer\n"
          ]
        },
        {
          "output_type": "stream",
          "name": "stderr",
          "text": [
            "Transcribing: 100%|██████████| 1/1 [00:01<00:00,  1.42s/it]\n"
          ]
        },
        {
          "output_type": "stream",
          "name": "stdout",
          "text": [
            "  -> Modelo: Wav2Vec2.0\n",
            "  -> Modelo: SpeechBrain\n",
            "\n",
            "Resultados guardados en 'evaluation_results.csv'.\n"
          ]
        }
      ]
    },
    {
      "cell_type": "code",
      "source": [
        "# Gráfico para resultados\n",
        "def plot_results(results_df):\n",
        "    \"\"\"\n",
        "    Generar gráficos para WER promedio por modelo.\n",
        "    \"\"\"\n",
        "    wer_per_model = results_df.groupby(\"model\")[\"wer\"].mean().reset_index()\n",
        "    plt.figure(figsize=(10, 6))\n",
        "    plt.bar(wer_per_model[\"model\"], wer_per_model[\"wer\"], color=\"skyblue\")\n",
        "    plt.xlabel(\"Modelo\")\n",
        "    plt.ylabel(\"WER Promedio\")\n",
        "    plt.title(\"Comparación de WER Promedio por Modelo\")\n",
        "    plt.xticks(rotation=45, ha=\"right\")\n",
        "    plt.tight_layout()\n",
        "    plt.show()\n",
        "\n",
        "# Generar gráfico\n",
        "plot_results(results_df)"
      ],
      "metadata": {
        "colab": {
          "base_uri": "https://localhost:8080/",
          "height": 606
        },
        "collapsed": true,
        "id": "AWiC1THmJecJ",
        "outputId": "23b74bad-a66d-43de-ef36-81e35f4f6647"
      },
      "execution_count": null,
      "outputs": [
        {
          "output_type": "display_data",
          "data": {
            "text/plain": [
              "<Figure size 1000x600 with 1 Axes>"
            ],
            "image/png": "[encoded data removed]"
          },
          "metadata": {}
        }
      ]
    },
    {
      "cell_type": "code",
      "source": [
        "# Gráfico de Tiempo de Inferencia Promedio por Modelo\n",
        "def plot_inference_time(results_df):\n",
        "    \"\"\"\n",
        "    Generar gráfico de tiempo de inferencia promedio por modelo.\n",
        "    \"\"\"\n",
        "    inference_time_per_model = results_df.groupby(\"model\")[\"inference_time\"].mean().reset_index()\n",
        "    plt.figure(figsize=(10, 6))\n",
        "    plt.bar(inference_time_per_model[\"model\"], inference_time_per_model[\"inference_time\"], color=\"lightgreen\")\n",
        "    plt.xlabel(\"Modelo\")\n",
        "    plt.ylabel(\"Tiempo de Inferencia (segundos)\")\n",
        "    plt.title(\"Comparación de Tiempo de Inferencia Promedio por Modelo\")\n",
        "    plt.xticks(rotation=45, ha=\"right\")\n",
        "    plt.tight_layout()\n",
        "    plt.show()\n",
        "\n",
        "# Llamar a la función para graficar\n",
        "plot_inference_time(results_df)\n"
      ],
      "metadata": {
        "colab": {
          "base_uri": "https://localhost:8080/",
          "height": 606
        },
        "id": "gJP1Ck_1cILg",
        "outputId": "32f10820-9073-4aee-89bf-19a4c6888149"
      },
      "execution_count": null,
      "outputs": [
        {
          "output_type": "display_data",
          "data": {
            "text/plain": [
              "<Figure size 1000x600 with 1 Axes>"
            ],
            "image/png": "[encoded data removed]"
          },
          "metadata": {}
        }
      ]
    },
    {
      "cell_type": "code",
      "source": [
        "# Calcular promedios por modelo\n",
        "average_metrics = results_df.groupby(\"model\").agg(\n",
        "    wer_avg=(\"wer\", \"mean\"),\n",
        "    inference_time_avg=(\"inference_time\", \"mean\")\n",
        ").reset_index()\n",
        "\n",
        "# Mostrar resultados por pantalla\n",
        "print(\"\\nResultados Promedio por Modelo:\")\n",
        "print(average_metrics)\n"
      ],
      "metadata": {
        "id": "-vueG2YtPviF",
        "outputId": "4c0d4cf7-2142-4651-b2d9-a3defe110de7",
        "colab": {
          "base_uri": "https://localhost:8080/"
        }
      },
      "execution_count": null,
      "outputs": [
        {
          "output_type": "stream",
          "name": "stdout",
          "text": [
            "\n",
            "Resultados Promedio por Modelo:\n",
            "         model   wer_avg  inference_time_avg\n",
            "0    Conformer  0.004788            2.111002\n",
            "1       Jasper  0.007114            8.103802\n",
            "2    QuartzNet  0.023502            1.434753\n",
            "3  SpeechBrain  0.022556          166.623010\n",
            "4   Wav2Vec2.0  0.008014            8.316536\n"
          ]
        }
      ]
    }
  ]
}